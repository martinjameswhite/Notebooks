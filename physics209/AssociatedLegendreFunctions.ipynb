{
 "cells": [
  {
   "cell_type": "code",
   "execution_count": 1,
   "id": "b22f2089",
   "metadata": {},
   "outputs": [],
   "source": [
    "import numpy as np\n",
    "import matplotlib.pyplot as plt\n",
    "%matplotlib inline"
   ]
  },
  {
   "cell_type": "markdown",
   "id": "6192113b",
   "metadata": {},
   "source": [
    "# Associated Legendre functions\n",
    "\n",
    "Play with the recurrence relations for evaluating associated Legendre functions to see how they perform.\n",
    "Starting from $P_0(x)=1$ and $P_1(x)=x$ we will make use of recurrence relations.  First\n",
    "$$\n",
    "  (\\ell-m) P_{\\ell}^m(x) = (2\\ell-1) x P_{\\ell-1}^m(x) - (\\ell+m-1) P_{\\ell-2}^m(x)\n",
    "$$\n",
    "is upwards stable for $m=0$.  The $m>0$ functions can be evaluated using a combination of two recurrence relations.  First\n",
    "$$\n",
    "    P_m^m(x) = -(2m-1)\\sqrt{1-x^2}\\ P_{m-1}^{m-1}(x)\n",
    "$$\n",
    "and then\n",
    "$$\n",
    "    P_{m+1}^m = (2m+1)x P_m^m(x)\n",
    "$$\n",
    "You fill in the $\\ell > m+1$ relations with the first recurrence relation, building up from $m=0$ (and doing all $\\ell$ for each $m$)."
   ]
  },
  {
   "cell_type": "code",
   "execution_count": 2,
   "id": "02b6937b",
   "metadata": {},
   "outputs": [
    {
     "name": "stdout",
     "output_type": "stream",
     "text": [
      "[0.025 0.3   0.5   0.7   0.975]\n"
     ]
    }
   ],
   "source": [
    "xx = np.array([0.025,0.3,0.5,0.7,0.975])\n",
    "sx = np.sqrt(1-xx**2)\n",
    "Nx = len(xx)\n",
    "print(xx)"
   ]
  },
  {
   "cell_type": "code",
   "execution_count": 3,
   "id": "b9f6e038",
   "metadata": {},
   "outputs": [],
   "source": [
    "# Set up an array for P_ell^m(x).\n",
    "Nl  = 100\n",
    "Plm = np.zeros( (Nl,Nl,Nx) )"
   ]
  },
  {
   "cell_type": "code",
   "execution_count": 4,
   "id": "ecbf4fbb",
   "metadata": {},
   "outputs": [],
   "source": [
    "# Now fill it in. First we do the m=0 case.\n",
    "Plm[0,0,:] = np.ones_like(xx)\n",
    "Plm[1,0,:] = xx.copy()\n",
    "for ell in range(2,Nl):\n",
    "    Plm[ell,0,:] = (2*ell-1)*xx*Plm[ell-1,0,:]-(ell-1)*Plm[ell-2,0,:]\n",
    "    Plm[ell,0,:]/= float(ell)"
   ]
  },
  {
   "cell_type": "code",
   "execution_count": 5,
   "id": "0a9e672e",
   "metadata": {},
   "outputs": [],
   "source": [
    "# Now we fill in m>0.\n",
    "# To keep the recurrences stable, we treat \"high m\" and \"low m\" separately.\n",
    "# Start with the highest value of m allowed:\n",
    "for m in range(1,Nl):\n",
    "    Plm[m,m,:] = -(2*m-1)*sx*Plm[m-1,m-1,:]"
   ]
  },
  {
   "cell_type": "code",
   "execution_count": 6,
   "id": "9cfad507",
   "metadata": {},
   "outputs": [],
   "source": [
    "# Now do m=ell-1\n",
    "for m in range(1,Nl-1):\n",
    "    Plm[m+1,m,:] = (2*m+1)*xx*Plm[m,m,:]"
   ]
  },
  {
   "cell_type": "code",
   "execution_count": 7,
   "id": "8c9c1ae2",
   "metadata": {},
   "outputs": [],
   "source": [
    "# Finally fill in ell>m+1:\n",
    "for m in range(0,Nl-1):\n",
    "    for ell in range(m+2,Nl):\n",
    "        Plm[ell,m,:] = (2*ell-1)*xx*Plm[ell-1,m,:]-(ell+m-1)*Plm[ell-2,m,:]\n",
    "        Plm[ell,m,:]/= (ell-m)"
   ]
  },
  {
   "cell_type": "code",
   "execution_count": 8,
   "id": "d9c5d92f",
   "metadata": {},
   "outputs": [],
   "source": [
    "# Now let's compare to the library version.  Compute a\n",
    "# table in the same format from SciPy.  Note SciPy has\n",
    "# the ell,m indices reversed from our convention and does\n",
    "# all ell,m for a single x.\n",
    "from scipy.special import lpmn\n",
    "#\n",
    "Pmn = np.zeros( (Nl+1,Nl+1,Nx) )\n",
    "for i,x in enumerate(xx):\n",
    "    val,deriv  = lpmn(Nl,Nl,x)\n",
    "    Pmn[:,:,i] = val.T"
   ]
  },
  {
   "cell_type": "code",
   "execution_count": 9,
   "id": "34caea42",
   "metadata": {},
   "outputs": [
    {
     "name": "stdout",
     "output_type": "stream",
     "text": [
      "( 1, 1):\n",
      "\t  -9.9969e-01  -9.5394e-01  -8.6603e-01  -7.1414e-01  -2.2220e-01\n",
      "\t  -9.9969e-01  -9.5394e-01  -8.6603e-01  -7.1414e-01  -2.2220e-01\n",
      "( 5, 1):\n",
      "\t  -1.8580e+00   1.6080e-01   1.9283e+00   1.0952e+00  -2.7784e+00\n",
      "\t  -1.8580e+00   1.6080e-01   1.9283e+00   1.0952e+00  -2.7784e+00\n",
      "( 5, 5):\n",
      "\t  -9.4352e+02  -7.4651e+02  -4.6035e+02  -1.7553e+02  -5.1192e-01\n",
      "\t  -9.4352e+02  -7.4651e+02  -4.6035e+02  -1.7553e+02  -5.1192e-01\n",
      "(10, 1):\n",
      "\t  -6.6924e-01   1.2310e-01   2.0067e+00  -2.9685e+00  -5.5867e+00\n",
      "\t  -6.6924e-01   1.2310e-01   2.0067e+00  -2.9685e+00  -5.5867e+00\n",
      "(10, 5):\n",
      "\t  -6.2798e+03  -9.2725e+03   3.0086e+04  -2.0321e+04  -1.2962e+03\n",
      "\t  -6.2798e+03  -9.2725e+03   3.0086e+04  -2.0321e+04  -1.2962e+03\n",
      "(10,10):\n",
      "\t   6.5269e+08   4.0857e+08   1.5537e+08   2.2590e+07   1.9213e+02\n",
      "\t   6.5269e+08   4.0857e+08   1.5537e+08   2.2590e+07   1.9213e+02\n",
      "(25, 1):\n",
      "\t  -3.2393e+00  -3.6647e-01  -3.0879e+00  -2.9323e+00   8.2600e+00\n",
      "\t  -3.2393e+00  -3.6647e-01  -3.0879e+00  -2.9323e+00   8.2600e+00\n",
      "(25, 5):\n",
      "\t  -1.3509e+06  -4.0306e+05  -1.5740e+06  -1.7991e+06  -3.5470e+06\n",
      "\t  -1.3509e+06  -4.0306e+05  -1.5740e+06  -1.7991e+06  -3.5470e+06\n",
      "(25,10):\n",
      "\t  -8.1071e+12  -1.1269e+13   6.1488e+12   1.6176e+13   3.2965e+11\n",
      "\t  -8.1071e+12  -1.1269e+13   6.1488e+12   1.6176e+13   3.2965e+11\n",
      "(25,15):\n",
      "\t   7.2467e+19   8.6312e+19  -4.4141e+19  -7.2819e+19  -6.0127e+14\n",
      "\t   7.2467e+19   8.6312e+19  -4.4141e+19  -7.2819e+19  -6.0127e+14\n",
      "(25,25):\n",
      "\t  -5.7981e+31  -1.7976e+31  -1.6030e+30  -1.2921e+28  -2.7260e+15\n",
      "\t  -5.7981e+31  -1.7976e+31  -1.6030e+30  -1.2921e+28  -2.7260e+15\n",
      "(30, 1):\n",
      "\t  -3.0436e+00  -6.0958e-01   1.1932e+00   5.2008e+00   1.6876e+00\n",
      "\t  -3.0436e+00  -6.0958e-01   1.1932e+00   5.2008e+00   1.6876e+00\n",
      "(30, 5):\n",
      "\t  -2.5659e+06  -9.8903e+05   1.0497e+05   4.2545e+06  -9.3997e+06\n",
      "\t  -2.5659e+06  -9.8903e+05   1.0497e+05   4.2545e+06  -9.3997e+06\n",
      "(30,10):\n",
      "\t   6.4689e+13  -6.9791e+13  -7.0772e+13  -1.0500e+14   9.8965e+12\n",
      "\t   6.4689e+13  -6.9791e+13  -7.0772e+13  -1.0500e+14   9.8965e+12\n",
      "(30,15):\n",
      "\t   9.1284e+20   1.4981e+21   1.4674e+21   1.4372e+21  -1.9487e+17\n",
      "\t   9.1284e+20   1.4981e+21   1.4674e+21   1.4372e+21  -1.9487e+17\n",
      "(30,25):\n",
      "\t  -2.6299e+34   6.0528e+34  -8.2107e+34  -6.0863e+33  -8.2720e+21\n",
      "\t  -2.6299e+34   6.0528e+34  -8.2107e+34  -6.0863e+33  -8.2720e+21\n",
      "(40, 1):\n",
      "\t   4.3072e+00  -1.1814e+00   3.8791e+00  -1.2859e-01  -9.5952e+00\n",
      "\t   4.3072e+00  -1.1814e+00   3.8791e+00  -1.2859e-01  -9.5952e+00\n",
      "(40, 5):\n",
      "\t   1.1432e+07  -4.3991e+06   1.1956e+07  -4.9545e+06   7.2587e+06\n",
      "\t   1.1432e+07  -4.3991e+06   1.1956e+07  -4.9545e+06   7.2587e+06\n",
      "(40,10):\n",
      "\t  -7.5824e+14  -1.1384e+15   9.1721e+13  -5.2660e+14   1.3257e+15\n",
      "\t  -7.5824e+14  -1.1384e+15   9.1721e+13  -5.2660e+14   1.3257e+15\n",
      "(40,15):\n",
      "\t  -9.5103e+22   1.0950e+23  -8.1492e+22   3.9505e+22  -9.6460e+20\n",
      "\t  -9.5103e+22   1.0950e+23  -8.1492e+22   3.9505e+22  -9.6460e+20\n",
      "(40,25):\n",
      "\t   2.5389e+38  -6.9627e+37  -1.7151e+38  -2.6249e+38  -3.4761e+29\n",
      "\t   2.5389e+38  -6.9627e+37  -1.7151e+38  -2.6249e+38  -3.4761e+29\n",
      "(40,40):\n",
      "\t   7.8787e+58   1.2098e+58   2.5299e+56   1.1305e+53   5.9160e+32\n",
      "\t   7.8787e+58   1.2098e+58   2.5299e+56   1.1305e+53   5.9160e+32\n"
     ]
    }
   ],
   "source": [
    "# Just cross-check some values for sanity.\n",
    "for ell in [1,5,10,25,30,40]:\n",
    "    for m in [1,5,10,15,25,40]:\n",
    "        if m<=ell:\n",
    "            lbs,mys = \"\",\"\"\n",
    "            for i in range(Nx): lbs+= \" {:12.4e}\".format(Pmn[ell,m,i])\n",
    "            for i in range(Nx): mys+= \" {:12.4e}\".format(Plm[ell,m,i])\n",
    "            print(\"({:2d},{:2d}):\".format(ell,m))\n",
    "            print(\"\\t\"+lbs)\n",
    "            print(\"\\t\"+mys)"
   ]
  },
  {
   "cell_type": "markdown",
   "id": "13e24419",
   "metadata": {},
   "source": [
    "Note that the size of these polynomials, especially when $\\ell\\approx m$, is getting very large.  For this reason we likely want to include the normalization as in the spherical harmonics."
   ]
  },
  {
   "cell_type": "markdown",
   "id": "5e73bc97",
   "metadata": {},
   "source": [
    "For example if $\\bar{P}_\\ell^m=\\sqrt{(\\ell-m)!/(\\ell+m)!}\\,P_\\ell^m$ then\n",
    "\\begin{align}\n",
    "    \\bar{P}_m^m &= -(2m-1)\\sqrt{1-x^2} \\sqrt{ \\frac{(2m-2)!}{(2m)!} }\\ \\bar{P}_{m-1}^{m-1} \\\\\n",
    "    &= -\\sqrt{1-x^2} \\sqrt{ \\frac{2m-1}{2m} }\\ \\bar{P}_{m-1}^{m-1} \\\\\n",
    "    &= -\\sqrt{1-x^2} \\sqrt{ 1-(2m)^{-1} } \\ \\bar{P}_{m-1}^{m-1}\n",
    "\\end{align}\n",
    "and note the problematic factorial growth is gone.  For large values of $m$ we could use\n",
    "\\begin{equation}\n",
    "    \\sqrt{1-(2m)^{-1}}\\simeq 1 - \\frac{1}{4m} - \\frac{1}{32m^2} - \\frac{1}{128m^3} - \\frac{5}{2048m^4}\n",
    "\\end{equation}\n",
    "which for $m>20$ is accurate to 10 decimal places.  Similarly\n",
    "\\begin{align}\n",
    "    \\bar{P}_{m+1}^m &= (2m+1)x\\ \\sqrt{ \\frac{1!}{(2m+1)!} \\frac{(2m)!}{1!} } \\bar{P}_m^m \\\\\n",
    "    &= \\sqrt{2m+1}\\, x\\ \\bar{P}_m^m\n",
    "\\end{align}\n",
    "Finally\n",
    "\\begin{align}\n",
    "    (\\ell-m) \\bar{P}_{\\ell}^m(x) &= \\sqrt{\\frac{(\\ell-m)!}{(\\ell+m)!}}\\left[ (2\\ell-1) x P_{\\ell-1}^m(x) - (\\ell+m-1) P_{\\ell-2}^m(x) \\right] \\\\\n",
    "    &= \\sqrt{\\frac{(\\ell-m)!}{(\\ell+m)!}} (2\\ell-1) x \\sqrt{\\frac{(\\ell+m-1)!}{(\\ell-m-1)!}} \\, \\bar{P}_{\\ell-1}^m(x) \\nonumber \\\\\n",
    "    &- \\sqrt{\\frac{(\\ell-m)!}{(\\ell+m)!}} (\\ell+m-1) \\sqrt{\\frac{(\\ell+m-2)!}{(\\ell-m-2)!}} \\, \\bar{P}_{\\ell-2}^m(x) \\\\\n",
    "    &= \\sqrt{\\frac{(\\ell-m)}{(\\ell+m)}}\\, (2\\ell-1) x  \\bar{P}_{\\ell-1}^m(x)  \\nonumber \\\\\n",
    "    &- \\sqrt{\\frac{(\\ell-m)(\\ell-m-1)}{(\\ell+m)(\\ell+m-1)}} \\, (\\ell+m-1)  \\bar{P}_{\\ell-2}^m(x) \\\\\n",
    "    \\bar{P}_\\ell^m\n",
    "    &= \\sqrt{\\frac{(\\ell-m)}{(\\ell+m)}}\\, \\frac{2\\ell-1}{\\ell-m}\\ x\\,  \\bar{P}_{\\ell-1}^m(x)  \\nonumber \\\\\n",
    "    &- \\sqrt{\\frac{(\\ell-m)(\\ell-m-1)}{(\\ell+m)(\\ell+m-1)}} \\, \\frac{\\ell+m-1}{\\ell-m}\\  \\bar{P}_{\\ell-2}^m(x) \n",
    "\\end{align}"
   ]
  },
  {
   "cell_type": "code",
   "execution_count": 10,
   "id": "978c3f0a",
   "metadata": {},
   "outputs": [],
   "source": [
    "# Let's see how well this works.\n",
    "Plm = np.zeros( (Nl,Nl,Nx) )\n",
    "# First we do the m=0 case, which is the same as before.\n",
    "Plm[0,0,:] = np.ones_like(xx)\n",
    "Plm[1,0,:] = xx.copy()\n",
    "for ell in range(2,Nl):\n",
    "    Plm[ell,0,:] = (2*ell-1)*xx*Plm[ell-1,0,:]-(ell-1)*Plm[ell-2,0,:]\n",
    "    Plm[ell,0,:]/= float(ell)"
   ]
  },
  {
   "cell_type": "code",
   "execution_count": 11,
   "id": "8e8e5333",
   "metadata": {},
   "outputs": [],
   "source": [
    "# Now we fill in m>0.\n",
    "# To keep the recurrences stable, we treat \"high m\" and \"low m\" separately.\n",
    "# Start with the highest value of m allowed:\n",
    "for m in range(1,Nl):\n",
    "    Plm[m,m,:] = -np.sqrt(1.0-1./(2*m))*sx*Plm[m-1,m-1,:]"
   ]
  },
  {
   "cell_type": "code",
   "execution_count": 12,
   "id": "ce8afb4c",
   "metadata": {},
   "outputs": [],
   "source": [
    "# Now do m=ell-1\n",
    "for m in range(1,Nl-1):\n",
    "    Plm[m+1,m,:] = np.sqrt(2*m+1.)*xx*Plm[m,m,:]"
   ]
  },
  {
   "cell_type": "code",
   "execution_count": 13,
   "id": "908efdaf",
   "metadata": {},
   "outputs": [],
   "source": [
    "# Finally fill in ell>m+1:\n",
    "for m in range(0,Nl-1):\n",
    "    for ell in range(m+2,Nl):\n",
    "        fact1,fact2  = np.sqrt( (ell-m)*1./(ell+m) ),np.sqrt( (ell-m-1.)/(ell+m-1.) )\n",
    "        Plm[ell,m,:] = (2*ell-1)*xx*Plm[ell-1,m,:]*fact1-(ell+m-1)*Plm[ell-2,m,:]*fact1*fact2\n",
    "        Plm[ell,m,:]/= (ell-m)"
   ]
  },
  {
   "cell_type": "code",
   "execution_count": 14,
   "id": "4be12f4f",
   "metadata": {},
   "outputs": [],
   "source": [
    "# And let's put in the (2ell+1)/4pi normalization as well.\n",
    "for ell in range(Nl):\n",
    "    Plm[ell,:,:] *= np.sqrt( (2*ell+1)/4./np.pi )"
   ]
  },
  {
   "cell_type": "code",
   "execution_count": 15,
   "id": "ada853d9",
   "metadata": {},
   "outputs": [],
   "source": [
    "# Now let's compare to the library version.  Compute a\n",
    "# table in the same format from SciPy.  Note SciPy has\n",
    "# the ell,m indices and theta,phi arguments reversed!\n",
    "from scipy.special import sph_harm\n",
    "#\n",
    "Ylm = np.zeros( (Nl,Nl,Nx) )\n",
    "for ell in range(Nl):\n",
    "    for m in range(ell+1):\n",
    "        for i,x in enumerate(xx):\n",
    "            theta        = np.arccos(x)\n",
    "            Ylm[ell,m,i] = np.real( sph_harm(m,ell,0,theta) )"
   ]
  },
  {
   "cell_type": "code",
   "execution_count": 16,
   "id": "2ab14023",
   "metadata": {
    "scrolled": false
   },
   "outputs": [
    {
     "name": "stdout",
     "output_type": "stream",
     "text": [
      "( 1, 1):\n",
      "\t  -3.4539e-01  -3.2958e-01  -2.9921e-01  -2.4673e-01  -7.6770e-02\n",
      "\t  -3.4539e-01  -3.2958e-01  -2.9921e-01  -2.4673e-01  -7.6770e-02\n",
      "( 5, 1):\n",
      "\t  -3.1738e-01   2.7467e-02   3.2938e-01   1.8708e-01  -4.7460e-01\n",
      "\t  -3.1738e-01   2.7467e-02   3.2938e-01   1.8708e-01  -4.7460e-01\n",
      "( 5, 5):\n",
      "\t  -4.6341e-01  -3.6664e-01  -2.2610e-01  -8.6212e-02  -2.5143e-04\n",
      "\t  -4.6341e-01  -3.6664e-01  -2.2610e-01  -8.6212e-02  -2.5143e-04\n",
      "(10, 1):\n",
      "\t  -8.2488e-02   1.5172e-02   2.4734e-01  -3.6589e-01  -6.8860e-01\n",
      "\t  -8.2488e-02   1.5172e-02   2.4734e-01  -3.6589e-01  -6.8860e-01\n",
      "(10, 5):\n",
      "\t  -7.7766e-02  -1.1483e-01   3.7257e-01  -2.5165e-01  -1.6052e-02\n",
      "\t  -7.7766e-02  -1.1483e-01   3.7257e-01  -2.5165e-01  -1.6052e-02\n",
      "(10,10):\n",
      "\t   5.4094e-01   3.3862e-01   1.2877e-01   1.8722e-02   1.5924e-07\n",
      "\t   5.4094e-01   3.3862e-01   1.2877e-01   1.8722e-02   1.5924e-07\n",
      "(25, 1):\n",
      "\t  -2.5596e-01  -2.8957e-02  -2.4400e-01  -2.3170e-01   6.5268e-01\n",
      "\t  -2.5596e-01  -2.8957e-02  -2.4400e-01  -2.3170e-01   6.5268e-01\n",
      "(25, 5):\n",
      "\t  -2.6063e-01  -7.7765e-02  -3.0369e-01  -3.4710e-01  -6.8433e-01\n",
      "\t  -2.6063e-01  -7.7765e-02  -3.0369e-01  -3.4710e-01  -6.8433e-01\n",
      "(25,10):\n",
      "\t  -1.8373e-01  -2.5539e-01   1.3935e-01   3.6660e-01   7.4707e-03\n",
      "\t  -1.8373e-01  -2.5539e-01   1.3935e-01   3.6660e-01   7.4707e-03\n",
      "(25,15):\n",
      "\t   3.0788e-01   3.6670e-01  -1.8753e-01  -3.0938e-01  -2.5545e-06\n",
      "\t   3.0788e-01   3.6670e-01  -1.8753e-01  -3.0938e-01  -2.5545e-06\n",
      "(25,25):\n",
      "\t  -6.6977e-01  -2.0765e-01  -1.8518e-02  -1.4926e-04  -3.1489e-17\n",
      "\t  -6.6977e-01  -2.0765e-01  -1.8518e-02  -1.4926e-04  -3.1489e-17\n",
      "(30, 1):\n",
      "\t  -2.1989e-01  -4.4040e-02   8.6205e-02   3.7574e-01   1.2192e-01\n",
      "\t  -2.1989e-01  -4.4040e-02   8.6205e-02   3.7574e-01   1.2192e-01\n",
      "(30, 5):\n",
      "\t  -2.1903e-01  -8.4426e-02   8.9608e-03   3.6317e-01  -8.0238e-01\n",
      "\t  -2.1903e-01  -8.4426e-02   8.9608e-03   3.6317e-01  -8.0238e-01\n",
      "(30,10):\n",
      "\t   2.4611e-01  -2.6552e-01  -2.6925e-01  -3.9948e-01   3.7651e-02\n",
      "\t   2.4611e-01  -2.6552e-01  -2.6925e-01  -3.9948e-01   3.7651e-02\n",
      "(30,15):\n",
      "\t   2.1028e-01   3.4510e-01   3.3802e-01   3.3107e-01  -4.4889e-05\n",
      "\t   2.1028e-01   3.4510e-01   3.3802e-01   3.3107e-01  -4.4889e-05\n",
      "(30,25):\n",
      "\t  -1.7814e-01   4.0999e-01  -5.5615e-01  -4.1226e-02  -5.6030e-14\n",
      "\t  -1.7814e-01   4.0999e-01  -5.5615e-01  -4.1226e-02  -5.6030e-14\n",
      "(40, 1):\n",
      "\t   2.7003e-01  -7.4064e-02   2.4319e-01  -8.0618e-03  -6.0154e-01\n",
      "\t   2.7003e-01  -7.4064e-02   2.4319e-01  -8.0618e-03  -6.0154e-01\n",
      "(40, 5):\n",
      "\t   2.6976e-01  -1.0380e-01   2.8212e-01  -1.1691e-01   1.7128e-01\n",
      "\t   2.6976e-01  -1.0380e-01   2.8212e-01  -1.1691e-01   1.7128e-01\n",
      "(40,10):\n",
      "\t  -1.7978e-01  -2.6992e-01   2.1747e-02  -1.2486e-01   3.1433e-01\n",
      "\t  -1.7978e-01  -2.6992e-01   2.1747e-02  -1.2486e-01   3.1433e-01\n",
      "(40,15):\n",
      "\t  -2.6688e-01   3.0728e-01  -2.2868e-01   1.1086e-01  -2.7069e-03\n",
      "\t  -2.6688e-01   3.0728e-01  -2.2868e-01   1.1086e-01  -2.7069e-03\n",
      "(40,25):\n",
      "\t   2.5667e-01  -7.0389e-02  -1.7339e-01  -2.6536e-01  -3.5141e-10\n",
      "\t   2.5667e-01  -7.0389e-02  -1.7339e-01  -2.6536e-01  -3.5141e-10\n",
      "(40,40):\n",
      "\t   7.4770e-01   1.1481e-01   2.4009e-03   1.0729e-06   5.6143e-27\n",
      "\t   7.4770e-01   1.1481e-01   2.4009e-03   1.0729e-06   5.6143e-27\n",
      "(95, 1):\n",
      "\t  -2.3209e-01  -2.2173e-01   3.3020e-01   8.1904e-02  -6.6061e-01\n",
      "\t  -2.3209e-01  -2.2173e-01   3.3020e-01   8.1904e-02  -6.6061e-01\n",
      "(95, 5):\n",
      "\t  -2.3155e-01  -2.3116e-01   3.2314e-01   3.6122e-02  -4.9439e-01\n",
      "\t  -2.3155e-01  -2.3116e-01   3.2314e-01   3.6122e-02  -4.9439e-01\n",
      "(95,10):\n",
      "\t   2.2153e-01  -2.0019e-01  -1.8358e-01  -3.6283e-01   4.1188e-01\n",
      "\t   2.2153e-01  -2.0019e-01  -1.8358e-01  -3.6283e-01   4.1188e-01\n",
      "(95,15):\n",
      "\t   2.2696e-01   2.9528e-01  -2.0180e-01   3.0792e-01   6.3249e-01\n",
      "\t   2.2696e-01   2.9528e-01  -2.0180e-01   3.0792e-01   6.3249e-01\n",
      "(95,25):\n",
      "\t  -2.1700e-01  -3.2407e-01  -2.0262e-01  -3.2269e-02  -8.8919e-02\n",
      "\t  -2.1700e-01  -3.2407e-01  -2.0262e-01  -3.2269e-02  -8.8919e-02\n",
      "(95,40):\n",
      "\t  -2.7623e-01  -3.2047e-01  -2.9178e-01  -2.6165e-01   1.3751e-08\n",
      "\t  -2.7623e-01  -3.2047e-01  -2.9178e-01  -2.6165e-01   1.3751e-08\n",
      "(95,75):\n",
      "\t  -3.7442e-02  -1.1159e-01   5.2261e-01  -1.3438e-02  -4.1172e-37\n",
      "\t  -3.7442e-02  -1.1159e-01   5.2261e-01  -1.3438e-02  -4.1172e-37\n",
      "(95,95):\n",
      "\t          nan          nan          nan          nan          nan\n",
      "\t  -9.0994e-01  -1.0626e-02  -1.0897e-06  -1.2064e-14  -8.1940e-63\n"
     ]
    }
   ],
   "source": [
    "# Just cross-check some values for sanity.\n",
    "for ell in [1,5,10,25,30,40,95]:\n",
    "    for m in [1,5,10,15,25,40,75,95]:\n",
    "        if m<=ell:\n",
    "            lbs,mys = \"\",\"\"\n",
    "            for i in range(Nx): lbs+= \" {:12.4e}\".format(Ylm[ell,m,i])\n",
    "            for i in range(Nx): mys+= \" {:12.4e}\".format(Plm[ell,m,i])\n",
    "            print(\"({:2d},{:2d}):\".format(ell,m))\n",
    "            print(\"\\t\"+lbs)\n",
    "            print(\"\\t\"+mys)"
   ]
  },
  {
   "cell_type": "markdown",
   "id": "7f3b9861",
   "metadata": {},
   "source": [
    "Note that the library version is producing NaNs for $\\ell=m=95$, but also that for high $\\ell$ and $m$ the spherical harmonics are quite small for $x\\approx 1$."
   ]
  },
  {
   "cell_type": "markdown",
   "id": "6ee00002",
   "metadata": {},
   "source": [
    "# The End"
   ]
  }
 ],
 "metadata": {
  "kernelspec": {
   "display_name": "Python 3 (ipykernel)",
   "language": "python",
   "name": "python3"
  },
  "language_info": {
   "codemirror_mode": {
    "name": "ipython",
    "version": 3
   },
   "file_extension": ".py",
   "mimetype": "text/x-python",
   "name": "python",
   "nbconvert_exporter": "python",
   "pygments_lexer": "ipython3",
   "version": "3.9.15"
  }
 },
 "nbformat": 4,
 "nbformat_minor": 5
}
